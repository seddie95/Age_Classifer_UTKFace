{
 "cells": [
  {
   "cell_type": "code",
   "execution_count": 1,
   "metadata": {},
   "outputs": [
    {
     "name": "stderr",
     "output_type": "stream",
     "text": [
      "Using TensorFlow backend.\n"
     ]
    }
   ],
   "source": [
    "%config Completer.use_jedi = False\n",
    "import os\n",
    "import numpy as np\n",
    "import cv2\n",
    "import matplotlib.pyplot as plt\n",
    "from keras.utils.np_utils import to_categorical\n",
    "from sklearn.model_selection import train_test_split,GridSearchCV\n",
    "from keras.models import Sequential\n",
    "from keras.layers import Activation, Dropout, Flatten, Dense, Conv2D, MaxPooling2D\n",
    "from sklearn.metrics import classification_report,accuracy_score,b\n",
    "from keras.wrappers.scikit_learn import KerasClassifier\n",
    "from keras.constraints import maxnorm"
   ]
  },
  {
   "cell_type": "code",
   "execution_count": 2,
   "metadata": {},
   "outputs": [],
   "source": [
    "age_data = np.load('numpy_files/age_data.npz')"
   ]
  },
  {
   "cell_type": "code",
   "execution_count": 3,
   "metadata": {},
   "outputs": [],
   "source": [
    "X = age_data['X']\n",
    "y = age_data['y']"
   ]
  },
  {
   "cell_type": "code",
   "execution_count": 4,
   "metadata": {},
   "outputs": [
    {
     "data": {
      "text/plain": [
       "(23709, 50, 50, 3)"
      ]
     },
     "execution_count": 4,
     "metadata": {},
     "output_type": "execute_result"
    }
   ],
   "source": [
    "X.shape"
   ]
  },
  {
   "cell_type": "code",
   "execution_count": 5,
   "metadata": {},
   "outputs": [
    {
     "data": {
      "text/plain": [
       "(23709,)"
      ]
     },
     "execution_count": 5,
     "metadata": {},
     "output_type": "execute_result"
    }
   ],
   "source": [
    "y.shape"
   ]
  },
  {
   "cell_type": "code",
   "execution_count": 6,
   "metadata": {},
   "outputs": [
    {
     "data": {
      "text/plain": [
       "<matplotlib.image.AxesImage at 0x2139ce63be0>"
      ]
     },
     "execution_count": 6,
     "metadata": {},
     "output_type": "execute_result"
    },
    {
     "data": {
      "image/png": "[encoded data removed]",
      "text/plain": [
       "<Figure size 432x288 with 1 Axes>"
      ]
     },
     "metadata": {
      "needs_background": "light"
     },
     "output_type": "display_data"
    }
   ],
   "source": [
    "plt.imshow(X[0])"
   ]
  },
  {
   "cell_type": "code",
   "execution_count": 7,
   "metadata": {},
   "outputs": [],
   "source": [
    "# Normalise the data\n",
    "X = X/255\n",
    "y = to_categorical(y,6)"
   ]
  },
  {
   "cell_type": "code",
   "execution_count": 8,
   "metadata": {},
   "outputs": [],
   "source": [
    "# Split data to small size for parameter testing\n",
    "X_train, X_test, y_train, y_test = train_test_split(X, y, test_size=0.2, random_state=42)"
   ]
  },
  {
   "cell_type": "code",
   "execution_count": 9,
   "metadata": {},
   "outputs": [
    {
     "data": {
      "text/plain": [
       "(4742, 50, 50, 3)"
      ]
     },
     "execution_count": 9,
     "metadata": {},
     "output_type": "execute_result"
    }
   ],
   "source": [
    "X_test.shape"
   ]
  },
  {
   "cell_type": "code",
   "execution_count": 10,
   "metadata": {},
   "outputs": [],
   "source": [
    "# Select data for validation\n",
    "X_val = X_test[4200:]\n",
    "y_val = y_test[4200:]\n",
    "\n",
    "X_test = X_test[:4200]\n",
    "y_test = y_test[:4200]"
   ]
  },
  {
   "cell_type": "code",
   "execution_count": 11,
   "metadata": {},
   "outputs": [
    {
     "data": {
      "text/plain": [
       "(542, 50, 50, 3)"
      ]
     },
     "execution_count": 11,
     "metadata": {},
     "output_type": "execute_result"
    }
   ],
   "source": [
    "X_val.shape"
   ]
  },
  {
   "cell_type": "code",
   "execution_count": 28,
   "metadata": {},
   "outputs": [],
   "source": [
    "def create_model(activation='linear'):\n",
    "    model = Sequential()\n",
    "\n",
    "    model.add(Conv2D(filters=32, kernel_size=2,input_shape=(50,50,3), activation=activation,))\n",
    "    model.add(MaxPooling2D(pool_size=2))\n",
    "\n",
    "    model.add(Conv2D(filters=64, kernel_size=2,input_shape=(50,50,3), activation=activation,))\n",
    "    model.add(MaxPooling2D(pool_size=2))\n",
    "\n",
    "#     model.add(Conv2D(filters=64, kernel_size=2,input_shape=(50,50,3), activation=activation,))\n",
    "#     model.add(MaxPooling2D(pool_size=2))\n",
    "\n",
    "    # flatten array to 50*50\n",
    "    model.add(Flatten())\n",
    "    model.add(Dense(256))\n",
    "    model.add(Activation(activation))\n",
    "    \n",
    "    # Prevent overfitting \n",
    "    model.add(Dropout(0.4))\n",
    "    model.add(Dense(6))\n",
    "    model.add(Activation('softmax'))\n",
    "\n",
    "    model.compile(loss='categorical_crossentropy',\n",
    "                 optimizer='adam',\n",
    "                 metrics=['accuracy'])\n",
    "    return model"
   ]
  },
  {
   "cell_type": "code",
   "execution_count": 16,
   "metadata": {},
   "outputs": [],
   "source": [
    "model = create_model()"
   ]
  },
  {
   "cell_type": "code",
   "execution_count": 19,
   "metadata": {},
   "outputs": [
    {
     "name": "stdout",
     "output_type": "stream",
     "text": [
      "Train on 18967 samples, validate on 542 samples\n",
      "Epoch 1/5\n",
      "18967/18967 [==============================] - 18s 975us/step - loss: 1.1798 - acc: 0.5591 - val_loss: 0.9071 - val_acc: 0.6476\n",
      "Epoch 2/5\n",
      "18967/18967 [==============================] - 19s 992us/step - loss: 0.9077 - acc: 0.6497 - val_loss: 0.8588 - val_acc: 0.6661\n",
      "Epoch 3/5\n",
      "18967/18967 [==============================] - 19s 1ms/step - loss: 0.8190 - acc: 0.6814 - val_loss: 0.7580 - val_acc: 0.7048\n",
      "Epoch 4/5\n",
      "18967/18967 [==============================] - 20s 1ms/step - loss: 0.7610 - acc: 0.7019 - val_loss: 0.7165 - val_acc: 0.7232\n",
      "Epoch 5/5\n",
      "18967/18967 [==============================] - 20s 1ms/step - loss: 0.7230 - acc: 0.7167 - val_loss: 0.6872 - val_acc: 0.7288\n"
     ]
    },
    {
     "data": {
      "text/plain": [
       "<keras.callbacks.History at 0x1a3d2687ac8>"
      ]
     },
     "execution_count": 19,
     "metadata": {},
     "output_type": "execute_result"
    }
   ],
   "source": [
    "model.fit(X_train,\n",
    "              y_train,\n",
    "              epochs=5,\n",
    "              batch_size=64,\n",
    "              validation_data=(X_val, y_val))"
   ]
  },
  {
   "cell_type": "code",
   "execution_count": 21,
   "metadata": {},
   "outputs": [
    {
     "name": "stdout",
     "output_type": "stream",
     "text": [
      "Accuracy: 0.7309523809523809\n",
      "Classification Report: \n",
      "             precision    recall  f1-score   support\n",
      "\n",
      "          0       0.91      0.81      0.86       332\n",
      "          1       0.63      0.65      0.64       298\n",
      "          2       0.04      0.47      0.07        15\n",
      "          3       0.90      0.77      0.83      2539\n",
      "          4       0.56      0.61      0.58       881\n",
      "          5       0.37      0.76      0.50       135\n",
      "\n",
      "avg / total       0.79      0.73      0.76      4200\n",
      "\n"
     ]
    }
   ],
   "source": [
    "y_pred = model.predict_classes(X_test)\n",
    "y_cat= to_categorical(y_pred,6)\n",
    "print(f\"Accuracy: {accuracy_score(y_cat,y_test)}\")\n",
    "print(f\"Classification Report: \\n{classification_report(y_cat,y_test)}\")"
   ]
  },
  {
   "cell_type": "code",
   "execution_count": 20,
   "metadata": {},
   "outputs": [],
   "source": [
    "linear = create_model('linear')"
   ]
  },
  {
   "cell_type": "code",
   "execution_count": 23,
   "metadata": {},
   "outputs": [
    {
     "name": "stdout",
     "output_type": "stream",
     "text": [
      "Train on 18967 samples, validate on 542 samples\n",
      "Epoch 1/5\n",
      "18967/18967 [==============================] - 16s 866us/step - loss: 1.0211 - acc: 0.6146 - val_loss: 0.8446 - val_acc: 0.6716\n",
      "Epoch 2/5\n",
      "18967/18967 [==============================] - 17s 877us/step - loss: 0.7658 - acc: 0.6984 - val_loss: 0.7188 - val_acc: 0.7251\n",
      "Epoch 3/5\n",
      "18967/18967 [==============================] - 17s 880us/step - loss: 0.6868 - acc: 0.7307 - val_loss: 0.6326 - val_acc: 0.7675\n",
      "Epoch 4/5\n",
      "18967/18967 [==============================] - 17s 885us/step - loss: 0.6390 - acc: 0.7510 - val_loss: 0.6249 - val_acc: 0.7638\n",
      "Epoch 5/5\n",
      "18967/18967 [==============================] - 17s 888us/step - loss: 0.5956 - acc: 0.7668 - val_loss: 0.5915 - val_acc: 0.7804\n"
     ]
    },
    {
     "data": {
      "text/plain": [
       "<keras.callbacks.History at 0x1a3d31605c0>"
      ]
     },
     "execution_count": 23,
     "metadata": {},
     "output_type": "execute_result"
    }
   ],
   "source": [
    "linear.fit(X_train,\n",
    "              y_train,\n",
    "              epochs=5,\n",
    "              batch_size=64,\n",
    "              validation_data=(X_val, y_val))"
   ]
  },
  {
   "cell_type": "code",
   "execution_count": 29,
   "metadata": {},
   "outputs": [
    {
     "name": "stdout",
     "output_type": "stream",
     "text": [
      "Accuracy: 0.7621428571428571\n",
      "Classification Report: \n",
      "             precision    recall  f1-score   support\n",
      "\n",
      "          0       0.87      0.86      0.87       296\n",
      "          1       0.67      0.67      0.67       308\n",
      "          2       0.24      0.43      0.31       110\n",
      "          3       0.91      0.81      0.85      2436\n",
      "          4       0.61      0.68      0.64       856\n",
      "          5       0.51      0.73      0.60       194\n",
      "\n",
      "avg / total       0.79      0.76      0.77      4200\n",
      "\n"
     ]
    }
   ],
   "source": [
    "y_pred = linear.predict_classes(X_test)\n",
    "y_cat= to_categorical(y_pred,6)\n",
    "print(f\"Accuracy: {accuracy_score(y_cat,y_test)}\")\n",
    "print(f\"Classification Report: \\n{classification_report(y_cat,y_test)}\")"
   ]
  },
  {
   "cell_type": "markdown",
   "metadata": {},
   "source": [
    "Linear activation appears to greatly improve accuracy."
   ]
  },
  {
   "cell_type": "code",
   "execution_count": 21,
   "metadata": {},
   "outputs": [],
   "source": [
    "kernal_model =create_model(activation='linear')"
   ]
  },
  {
   "cell_type": "code",
   "execution_count": 22,
   "metadata": {},
   "outputs": [
    {
     "name": "stdout",
     "output_type": "stream",
     "text": [
      "Train on 18967 samples, validate on 542 samples\n",
      "Epoch 1/5\n",
      "18967/18967 [==============================] - 16s 845us/step - loss: 1.0148 - acc: 0.6158 - val_loss: 0.8207 - val_acc: 0.6863\n",
      "Epoch 2/5\n",
      "18967/18967 [==============================] - 16s 844us/step - loss: 0.7718 - acc: 0.6970 - val_loss: 0.7409 - val_acc: 0.7066\n",
      "Epoch 3/5\n",
      "18967/18967 [==============================] - 17s 884us/step - loss: 0.7012 - acc: 0.7308 - val_loss: 0.6495 - val_acc: 0.7565\n",
      "Epoch 4/5\n",
      "18967/18967 [==============================] - 17s 909us/step - loss: 0.6446 - acc: 0.7459 - val_loss: 0.6379 - val_acc: 0.7343\n",
      "Epoch 5/5\n",
      "18967/18967 [==============================] - 16s 867us/step - loss: 0.6088 - acc: 0.7585 - val_loss: 0.6768 - val_acc: 0.7288\n"
     ]
    },
    {
     "data": {
      "text/plain": [
       "<keras.callbacks.History at 0x21453b3dac8>"
      ]
     },
     "execution_count": 22,
     "metadata": {},
     "output_type": "execute_result"
    }
   ],
   "source": [
    "kernal_model.fit(X_train,\n",
    "              y_train,\n",
    "              epochs=5,\n",
    "              batch_size=64,\n",
    "              validation_data=(X_val, y_val))"
   ]
  },
  {
   "cell_type": "code",
   "execution_count": 23,
   "metadata": {},
   "outputs": [
    {
     "name": "stdout",
     "output_type": "stream",
     "text": [
      "Accuracy: 0.7440476190476191\n",
      "Classification Report: \n",
      "             precision    recall  f1-score   support\n",
      "\n",
      "          0       0.84      0.89      0.86       277\n",
      "          1       0.66      0.68      0.67       301\n",
      "          2       0.40      0.34      0.36       229\n",
      "          3       0.91      0.78      0.84      2538\n",
      "          4       0.48      0.71      0.57       656\n",
      "          5       0.53      0.73      0.62       199\n",
      "\n",
      "avg / total       0.78      0.74      0.75      4200\n",
      "\n"
     ]
    }
   ],
   "source": [
    "y_pred = kernal_model.predict_classes(X_test)\n",
    "y_cat= to_categorical(y_pred,6)\n",
    "print(f\"Accuracy: {accuracy_score(y_cat,y_test)}\")\n",
    "print(f\"Classification Report: \\n{classification_report(y_cat,y_test)}\")"
   ]
  },
  {
   "cell_type": "code",
   "execution_count": null,
   "metadata": {},
   "outputs": [],
   "source": []
  },
  {
   "cell_type": "code",
   "execution_count": null,
   "metadata": {},
   "outputs": [],
   "source": []
  },
  {
   "cell_type": "code",
   "execution_count": 95,
   "metadata": {},
   "outputs": [
    {
     "name": "stdout",
     "output_type": "stream",
     "text": [
      "Train on 18967 samples, validate on 542 samples\n",
      "Epoch 1/10\n",
      "18967/18967 [==============================] - 17s 921us/step - loss: 1.0019 - acc: 0.6193 - val_loss: 0.8170 - val_acc: 0.6827\n",
      "Epoch 2/10\n",
      "18967/18967 [==============================] - 16s 869us/step - loss: 0.7634 - acc: 0.7035 - val_loss: 0.7185 - val_acc: 0.7085\n",
      "Epoch 3/10\n",
      "18967/18967 [==============================] - 17s 886us/step - loss: 0.6889 - acc: 0.7297 - val_loss: 0.6891 - val_acc: 0.7325\n",
      "Epoch 4/10\n",
      "18967/18967 [==============================] - 17s 892us/step - loss: 0.6394 - acc: 0.7477 - val_loss: 0.6659 - val_acc: 0.7343\n",
      "Epoch 5/10\n",
      "18967/18967 [==============================] - 17s 898us/step - loss: 0.6025 - acc: 0.7600 - val_loss: 0.6264 - val_acc: 0.7694\n",
      "Epoch 6/10\n",
      "18967/18967 [==============================] - 17s 912us/step - loss: 0.5638 - acc: 0.7774 - val_loss: 0.6571 - val_acc: 0.7620\n",
      "Epoch 7/10\n",
      "18967/18967 [==============================] - 17s 901us/step - loss: 0.5338 - acc: 0.7894 - val_loss: 0.6777 - val_acc: 0.7343\n",
      "Epoch 8/10\n",
      "18967/18967 [==============================] - 17s 911us/step - loss: 0.5086 - acc: 0.7983 - val_loss: 0.6759 - val_acc: 0.7251A: \n",
      "Epoch 9/10\n",
      "18967/18967 [==============================] - 17s 911us/step - loss: 0.4809 - acc: 0.8121 - val_loss: 0.6094 - val_acc: 0.7583\n",
      "Epoch 10/10\n",
      "18967/18967 [==============================] - 17s 908us/step - loss: 0.4562 - acc: 0.8213 - val_loss: 0.6458 - val_acc: 0.7841\n",
      "Accuracy: 0.7640476190476191\n",
      "Classification Report: \n",
      "             precision    recall  f1-score   support\n",
      "\n",
      "          0       0.91      0.84      0.87       320\n",
      "          1       0.53      0.78      0.64       209\n",
      "          2       0.29      0.47      0.36       118\n",
      "          3       0.92      0.80      0.85      2497\n",
      "          4       0.59      0.69      0.64       824\n",
      "          5       0.58      0.69      0.63       232\n",
      "\n",
      "avg / total       0.80      0.76      0.78      4200\n",
      "\n"
     ]
    }
   ],
   "source": [
    "kernal_model =create_model(activation='linear')\n",
    "kernal_model.fit(X_train,\n",
    "              y_train,\n",
    "              epochs=10,\n",
    "              batch_size=64,\n",
    "              validation_data=(X_val, y_val))\n",
    "y_pred = kernal_model.predict_classes(X_test)\n",
    "y_cat= to_categorical(y_pred,6)\n",
    "print(f\"Accuracy: {accuracy_score(y_cat,y_test)}\")\n",
    "print(f\"Classification Report: \\n{classification_report(y_cat,y_test)}\")"
   ]
  },
  {
   "cell_type": "code",
   "execution_count": null,
   "metadata": {},
   "outputs": [],
   "source": []
  },
  {
   "cell_type": "code",
   "execution_count": null,
   "metadata": {},
   "outputs": [],
   "source": []
  },
  {
   "cell_type": "code",
   "execution_count": null,
   "metadata": {},
   "outputs": [],
   "source": []
  },
  {
   "cell_type": "code",
   "execution_count": 35,
   "metadata": {},
   "outputs": [
    {
     "name": "stdout",
     "output_type": "stream",
     "text": [
      "Train on 18967 samples, validate on 542 samples\n",
      "Epoch 1/10\n",
      "18967/18967 [==============================] - 18s 933us/step - loss: 1.0046 - acc: 0.6190 - val_loss: 0.8045 - val_acc: 0.6882\n",
      "Epoch 2/10\n",
      "18967/18967 [==============================] - 17s 900us/step - loss: 0.7625 - acc: 0.7029 - val_loss: 0.7446 - val_acc: 0.7048\n",
      "Epoch 3/10\n",
      "18967/18967 [==============================] - 17s 909us/step - loss: 0.6846 - acc: 0.7309 - val_loss: 0.7174 - val_acc: 0.7122\n",
      "Epoch 4/10\n",
      "18967/18967 [==============================] - 17s 908us/step - loss: 0.6347 - acc: 0.7481 - val_loss: 0.6488 - val_acc: 0.7399\n",
      "Epoch 5/10\n",
      "18967/18967 [==============================] - 17s 895us/step - loss: 0.5971 - acc: 0.7627 - val_loss: 0.6173 - val_acc: 0.7565\n",
      "Epoch 6/10\n",
      "18967/18967 [==============================] - 17s 900us/step - loss: 0.5618 - acc: 0.7786 - val_loss: 0.6435 - val_acc: 0.7472\n",
      "Epoch 7/10\n",
      "18967/18967 [==============================] - 17s 900us/step - loss: 0.5357 - acc: 0.7869 - val_loss: 0.6083 - val_acc: 0.7657\n",
      "Epoch 8/10\n",
      "18967/18967 [==============================] - 17s 909us/step - loss: 0.5017 - acc: 0.7987 - val_loss: 0.6287 - val_acc: 0.7472\n",
      "Epoch 9/10\n",
      "18967/18967 [==============================] - 18s 937us/step - loss: 0.4714 - acc: 0.8157 - val_loss: 0.6182 - val_acc: 0.7491\n",
      "Epoch 10/10\n",
      "18967/18967 [==============================] - 17s 906us/step - loss: 0.4421 - acc: 0.8263 - val_loss: 0.6422 - val_acc: 0.7380\n"
     ]
    },
    {
     "data": {
      "text/plain": [
       "<keras.callbacks.History at 0x2148e5e9320>"
      ]
     },
     "execution_count": 35,
     "metadata": {},
     "output_type": "execute_result"
    }
   ],
   "source": [
    "kernal_model =create_model(activation='linear')\n",
    "kernal_model.fit(X_train,\n",
    "              y_train,\n",
    "              epochs=10,\n",
    "              batch_size=64,\n",
    "              validation_data=(X_val, y_val))"
   ]
  },
  {
   "cell_type": "code",
   "execution_count": 36,
   "metadata": {},
   "outputs": [
    {
     "name": "stdout",
     "output_type": "stream",
     "text": [
      "Accuracy: 0.7592857142857142\n",
      "Classification Report: \n",
      "             precision    recall  f1-score   support\n",
      "\n",
      "          0       0.85      0.88      0.87       284\n",
      "          1       0.73      0.71      0.72       316\n",
      "          2       0.37      0.49      0.42       144\n",
      "          3       0.86      0.83      0.84      2246\n",
      "          4       0.64      0.64      0.64       965\n",
      "          5       0.60      0.67      0.63       245\n",
      "\n",
      "avg / total       0.77      0.76      0.76      4200\n",
      "\n"
     ]
    }
   ],
   "source": [
    "y_pred = kernal_model.predict_classes(X_test)\n",
    "y_cat= to_categorical(y_pred,6)\n",
    "print(f\"Accuracy: {accuracy_score(y_cat,y_test)}\")\n",
    "print(f\"Classification Report: \\n{classification_report(y_cat,y_test)}\")"
   ]
  },
  {
   "cell_type": "code",
   "execution_count": 105,
   "metadata": {},
   "outputs": [
    {
     "data": {
      "text/plain": [
       "array([3], dtype=int64)"
      ]
     },
     "execution_count": 105,
     "metadata": {},
     "output_type": "execute_result"
    }
   ],
   "source": [
    "img = cv2.imread('../test_images/female/30a.jpg')\n",
    "img = cv2.resize(img,(50,50))\n",
    "img =np.expand_dims(img, axis=0)\n",
    "img = img/255\n",
    "\n",
    "\n",
    "kernal_model.predict_classes(img)"
   ]
  },
  {
   "cell_type": "code",
   "execution_count": 106,
   "metadata": {},
   "outputs": [],
   "source": [
    "kernal_model.save('age_estimator.h5')"
   ]
  }
 ],
 "metadata": {
  "kernelspec": {
   "display_name": "Python 3",
   "language": "python",
   "name": "python3"
  },
  "language_info": {
   "codemirror_mode": {
    "name": "ipython",
    "version": 3
   },
   "file_extension": ".py",
   "mimetype": "text/x-python",
   "name": "python",
   "nbconvert_exporter": "python",
   "pygments_lexer": "ipython3",
   "version": "3.6.6"
  }
 },
 "nbformat": 4,
 "nbformat_minor": 2
}
