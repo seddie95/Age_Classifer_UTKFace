{
 "cells": [
  {
   "cell_type": "code",
   "execution_count": 1,
   "metadata": {},
   "outputs": [
    {
     "name": "stderr",
     "output_type": "stream",
     "text": [
      "Using TensorFlow backend.\n"
     ]
    }
   ],
   "source": [
    "import os\n",
    "import numpy as np\n",
    "import cv2\n",
    "import matplotlib.pyplot as plt\n",
    "from keras.utils.np_utils import to_categorical\n",
    "from sklearn.model_selection import train_test_split,GridSearchCV\n",
    "from keras.models import Sequential\n",
    "from keras.layers import Activation, Dropout, Flatten, Dense, Conv2D, MaxPooling2D\n",
    "from sklearn.metrics import classification_report,accuracy_score\n",
    "from keras.wrappers.scikit_learn import KerasClassifier\n",
    "from keras.constraints import maxnorm"
   ]
  },
  {
   "cell_type": "code",
   "execution_count": 2,
   "metadata": {},
   "outputs": [],
   "source": [
    "age_data = np.load('numpy_files/age_data.npz')"
   ]
  },
  {
   "cell_type": "code",
   "execution_count": 3,
   "metadata": {},
   "outputs": [],
   "source": [
    "X = age_data['X']\n",
    "y = age_data['y']"
   ]
  },
  {
   "cell_type": "code",
   "execution_count": 4,
   "metadata": {},
   "outputs": [
    {
     "data": {
      "text/plain": [
       "(23709, 50, 50, 3)"
      ]
     },
     "execution_count": 4,
     "metadata": {},
     "output_type": "execute_result"
    }
   ],
   "source": [
    "X.shape"
   ]
  },
  {
   "cell_type": "code",
   "execution_count": 5,
   "metadata": {},
   "outputs": [
    {
     "data": {
      "text/plain": [
       "(23709,)"
      ]
     },
     "execution_count": 5,
     "metadata": {},
     "output_type": "execute_result"
    }
   ],
   "source": [
    "y.shape"
   ]
  },
  {
   "cell_type": "code",
   "execution_count": 6,
   "metadata": {},
   "outputs": [
    {
     "data": {
      "text/plain": [
       "<matplotlib.image.AxesImage at 0x2319faadcc0>"
      ]
     },
     "execution_count": 6,
     "metadata": {},
     "output_type": "execute_result"
    },
    {
     "data": {
      "image/png": "[encoded data removed]",
      "text/plain": [
       "<Figure size 432x288 with 1 Axes>"
      ]
     },
     "metadata": {
      "needs_background": "light"
     },
     "output_type": "display_data"
    }
   ],
   "source": [
    "plt.imshow(X[0])"
   ]
  },
  {
   "cell_type": "code",
   "execution_count": 4,
   "metadata": {},
   "outputs": [],
   "source": [
    "# Normalise the data\n",
    "X = X/255\n",
    "y = to_categorical(y,6)"
   ]
  },
  {
   "cell_type": "code",
   "execution_count": 8,
   "metadata": {},
   "outputs": [],
   "source": [
    "# Split data to small size for parameter testing\n",
    "X_train, X_test, y_train, y_test = train_test_split(X, y, test_size=0.05, random_state=42)"
   ]
  },
  {
   "cell_type": "code",
   "execution_count": 9,
   "metadata": {},
   "outputs": [
    {
     "data": {
      "text/plain": [
       "(1186, 50, 50, 3)"
      ]
     },
     "execution_count": 9,
     "metadata": {},
     "output_type": "execute_result"
    }
   ],
   "source": [
    "X_test.shape"
   ]
  },
  {
   "cell_type": "code",
   "execution_count": 10,
   "metadata": {},
   "outputs": [],
   "source": [
    "# Select data for validation\n",
    "X_val = X_test[1000:]\n",
    "y_val = y_test[1000:]\n",
    "\n",
    "X_test = X_test[:1000]\n",
    "y_test = y_test[:1000]"
   ]
  },
  {
   "cell_type": "code",
   "execution_count": 11,
   "metadata": {},
   "outputs": [
    {
     "data": {
      "text/plain": [
       "(186, 50, 50, 3)"
      ]
     },
     "execution_count": 11,
     "metadata": {},
     "output_type": "execute_result"
    }
   ],
   "source": [
    "X_val.shape"
   ]
  },
  {
   "cell_type": "code",
   "execution_count": 12,
   "metadata": {},
   "outputs": [
    {
     "data": {
      "text/plain": [
       "(186, 6)"
      ]
     },
     "execution_count": 12,
     "metadata": {},
     "output_type": "execute_result"
    }
   ],
   "source": [
    "y_val.shape"
   ]
  },
  {
   "cell_type": "code",
   "execution_count": 31,
   "metadata": {},
   "outputs": [],
   "source": [
    "def create_model():\n",
    "    model = Sequential()\n",
    "\n",
    "    model.add(Conv2D(filters=32, kernel_size=2,input_shape=(50,50,3), activation='relu',))\n",
    "    model.add(MaxPooling2D(pool_size=2))\n",
    "\n",
    "    model.add(Conv2D(filters=64, kernel_size=2,input_shape=(50,50,3), activation='relu',))\n",
    "    model.add(MaxPooling2D(pool_size=2))\n",
    "\n",
    "    model.add(Conv2D(filters=64, kernel_size=2,input_shape=(50,50,3), activation='relu',))\n",
    "    model.add(MaxPooling2D(pool_size=2))\n",
    "\n",
    "    # flatten array to 50*50\n",
    "    model.add(Flatten())\n",
    "    model.add(Dense(256))\n",
    "    model.add(Activation('relu'))\n",
    "    \n",
    "    # Prevent overfitting \n",
    "    model.add(Dropout(0.4))\n",
    "    model.add(Dense(6))\n",
    "    model.add(Activation('softmax'))\n",
    "\n",
    "    model.compile(loss='categorical_crossentropy',\n",
    "                 optimizer='adam',\n",
    "                 metrics=['accuracy'])\n",
    "    return model\n"
   ]
  },
  {
   "cell_type": "code",
   "execution_count": null,
   "metadata": {},
   "outputs": [],
   "source": [
    "model = KerasClassifier(build_fn=create_model, verbose=0)\n",
    "size =X_test.shape[0]\n",
    "\n",
    "batch_size = [64,128,size//50,size//100]\n",
    "epochs = [5,10,20,30]\n",
    "\n",
    "param_grid = dict(batch_size=batch_size,epochs=epochs)\n",
    "grid = GridSearchCV(estimator=model, param_grid=param_grid, cv=3)\n",
    "grid_result = grid.fit(X_train, y_train)\n",
    "\n",
    "print(\"Best: %f using %s\" % (grid_result.best_score_, grid_result.best_params_))\n",
    "means = grid_result.cv_results_['mean_test_score']\n",
    "stds = grid_result.cv_results_['std_test_score']\n",
    "params = grid_result.cv_results_['params']\n",
    "for mean, stdev, param in zip(means, stds, params):\n",
    "    print(\"%f (%f) with: %r\" % (mean, stdev, param))"
   ]
  },
  {
   "cell_type": "code",
   "execution_count": 36,
   "metadata": {},
   "outputs": [
    {
     "name": "stdout",
     "output_type": "stream",
     "text": [
      "Best: 0.601000 using {'optimizer': 'Adam'}\n",
      "0.545000 (0.026469) with: {'optimizer': 'SGD'}\n",
      "0.565000 (0.010452) with: {'optimizer': 'RMSprop'}\n",
      "0.588000 (0.026633) with: {'optimizer': 'Adagrad'}\n",
      "0.536000 (0.064826) with: {'optimizer': 'Adadelta'}\n",
      "0.601000 (0.017633) with: {'optimizer': 'Adam'}\n",
      "0.567000 (0.016589) with: {'optimizer': 'Adamax'}\n",
      "0.546000 (0.077257) with: {'optimizer': 'Nadam'}\n"
     ]
    }
   ],
   "source": [
    "# Optimizer tuning\n",
    "def create_model(optimizer='adam'):\n",
    "    model = Sequential()\n",
    "\n",
    "    model.add(Conv2D(filters=32, kernel_size=2,input_shape=(50,50,3), activation='relu',))\n",
    "    model.add(MaxPooling2D(pool_size=2))\n",
    "\n",
    "    model.add(Conv2D(filters=64, kernel_size=2,input_shape=(50,50,3), activation='relu',))\n",
    "    model.add(MaxPooling2D(pool_size=2))\n",
    "\n",
    "    model.add(Conv2D(filters=64, kernel_size=2,input_shape=(50,50,3), activation='relu',))\n",
    "    model.add(MaxPooling2D(pool_size=2))\n",
    "\n",
    "    # flatten array to 50*50\n",
    "    model.add(Flatten())\n",
    "    model.add(Dense(256))\n",
    "    model.add(Activation('relu'))\n",
    "    \n",
    "    # Prevent overfitting \n",
    "    model.add(Dropout(0.4))\n",
    "    model.add(Dense(6))\n",
    "    model.add(Activation('softmax'))\n",
    "\n",
    "    model.compile(loss='categorical_crossentropy',\n",
    "                 optimizer=optimizer,\n",
    "                 metrics=['accuracy'])\n",
    "    return model\n",
    "\n",
    "model = KerasClassifier(build_fn=create_model, verbose=0,epochs=10,batch_size=33)\n",
    "\n",
    "optimizer = ['SGD', 'RMSprop', 'Adagrad', 'Adadelta', 'Adam', 'Adamax', 'Nadam']\n",
    "\n",
    "param_grid = dict(optimizer=optimizer)\n",
    "grid = GridSearchCV(estimator=model, param_grid=param_grid, cv=3)\n",
    "grid_result = grid.fit(X_test, y_test)\n",
    "\n",
    "print(\"Best: %f using %s\" % (grid_result.best_score_, grid_result.best_params_))\n",
    "means = grid_result.cv_results_['mean_test_score']\n",
    "stds = grid_result.cv_results_['std_test_score']\n",
    "params = grid_result.cv_results_['params']\n",
    "for mean, stdev, param in zip(means, stds, params):\n",
    "    print(\"%f (%f) with: %r\" % (mean, stdev, param))\n"
   ]
  },
  {
   "cell_type": "code",
   "execution_count": 38,
   "metadata": {},
   "outputs": [
    {
     "name": "stdout",
     "output_type": "stream",
     "text": [
      "Best: 0.554000 using {'init_mode': 'glorot_uniform'}\n",
      "0.545000 (0.026469) with: {'init_mode': 'uniform'}\n",
      "0.545000 (0.026469) with: {'init_mode': 'lecun_uniform'}\n",
      "0.546000 (0.027610) with: {'init_mode': 'normal'}\n",
      "0.545000 (0.026469) with: {'init_mode': 'zero'}\n",
      "0.547000 (0.026331) with: {'init_mode': 'glorot_normal'}\n",
      "0.554000 (0.015558) with: {'init_mode': 'glorot_uniform'}\n",
      "0.548000 (0.022621) with: {'init_mode': 'he_normal'}\n",
      "0.546000 (0.027610) with: {'init_mode': 'he_uniform'}\n"
     ]
    }
   ],
   "source": [
    "# Optimizer tuning\n",
    "def create_model(init_mode='uniform'):\n",
    "    model = Sequential()\n",
    "\n",
    "    model.add(Conv2D(filters=32, kernel_size=2,input_shape=(50,50,3), activation='relu',))\n",
    "    model.add(MaxPooling2D(pool_size=2))\n",
    "\n",
    "    model.add(Conv2D(filters=64, kernel_size=2,input_shape=(50,50,3), activation='relu',))\n",
    "    model.add(MaxPooling2D(pool_size=2))\n",
    "\n",
    "    model.add(Conv2D(filters=64, kernel_size=2,input_shape=(50,50,3), activation='relu',))\n",
    "    model.add(MaxPooling2D(pool_size=2))\n",
    "\n",
    "    # flatten array to 50*50\n",
    "    model.add(Flatten())\n",
    "    model.add(Dense(256,kernel_initializer=init_mode))\n",
    "    model.add(Activation('relu'))\n",
    "    \n",
    "    # Prevent overfitting \n",
    "    model.add(Dropout(0.4))\n",
    "    model.add(Dense(6,kernel_initializer=init_mode))\n",
    "    model.add(Activation('softmax'))\n",
    "\n",
    "    model.compile(loss='categorical_crossentropy',\n",
    "                 optimizer='adam',\n",
    "                 metrics=['accuracy'])\n",
    "    return model\n",
    "\n",
    "model = KerasClassifier(build_fn=create_model, verbose=0,epochs=5,batch_size=33)\n",
    "\n",
    "init_mode = ['uniform', 'lecun_uniform', 'normal', 'zero', 'glorot_normal', 'glorot_uniform', 'he_normal', 'he_uniform']\n",
    "param_grid = dict(init_mode=init_mode)\n",
    "grid = GridSearchCV(estimator=model, param_grid=param_grid, cv=3)\n",
    "grid_result = grid.fit(X_test, y_test)\n",
    "\n",
    "print(\"Best: %f using %s\" % (grid_result.best_score_, grid_result.best_params_))\n",
    "means = grid_result.cv_results_['mean_test_score']\n",
    "stds = grid_result.cv_results_['std_test_score']\n",
    "params = grid_result.cv_results_['params']\n",
    "for mean, stdev, param in zip(means, stds, params):\n",
    "    print(\"%f (%f) with: %r\" % (mean, stdev, param))\n"
   ]
  },
  {
   "cell_type": "code",
   "execution_count": 40,
   "metadata": {},
   "outputs": [
    {
     "name": "stdout",
     "output_type": "stream",
     "text": [
      "Best: 0.617000 using {'activation': 'linear'}\n",
      "0.545000 (0.026469) with: {'activation': 'softmax'}\n",
      "0.545000 (0.026469) with: {'activation': 'softplus'}\n",
      "0.615000 (0.028713) with: {'activation': 'softsign'}\n",
      "0.545000 (0.026469) with: {'activation': 'relu'}\n",
      "0.611000 (0.035865) with: {'activation': 'tanh'}\n",
      "0.545000 (0.026469) with: {'activation': 'sigmoid'}\n",
      "0.545000 (0.026469) with: {'activation': 'hard_sigmoid'}\n",
      "0.617000 (0.038886) with: {'activation': 'linear'}\n"
     ]
    }
   ],
   "source": [
    "# Optimizer tuning\n",
    "def create_model(activation='relu'):\n",
    "    model = Sequential()\n",
    "\n",
    "    model.add(Conv2D(filters=32, kernel_size=2,input_shape=(50,50,3), activation=activation,))\n",
    "    model.add(MaxPooling2D(pool_size=2))\n",
    "\n",
    "    model.add(Conv2D(filters=64, kernel_size=2,input_shape=(50,50,3), activation=activation,))\n",
    "    model.add(MaxPooling2D(pool_size=2))\n",
    "\n",
    "    model.add(Conv2D(filters=64, kernel_size=2,input_shape=(50,50,3), activation=activation,))\n",
    "    model.add(MaxPooling2D(pool_size=2))\n",
    "\n",
    "    # flatten array to 50*50\n",
    "    model.add(Flatten())\n",
    "    model.add(Dense(256))\n",
    "    model.add(Activation(activation))\n",
    "    \n",
    "    # Prevent overfitting \n",
    "    model.add(Dropout(0.4))\n",
    "    model.add(Dense(6))\n",
    "    model.add(Activation('softmax'))\n",
    "\n",
    "    model.compile(loss='categorical_crossentropy',\n",
    "                 optimizer='adam',\n",
    "                 metrics=['accuracy'])\n",
    "    return model\n",
    "\n",
    "model = KerasClassifier(build_fn=create_model, verbose=0,epochs=5,batch_size=33)\n",
    "\n",
    "activation = ['softmax', 'softplus', 'softsign', 'relu', 'tanh', 'sigmoid', 'hard_sigmoid', 'linear']\n",
    "param_grid = dict(activation=activation)\n",
    "grid = GridSearchCV(estimator=model, param_grid=param_grid, cv=3)\n",
    "grid_result = grid.fit(X_test, y_test)\n",
    "\n",
    "print(\"Best: %f using %s\" % (grid_result.best_score_, grid_result.best_params_))\n",
    "means = grid_result.cv_results_['mean_test_score']\n",
    "stds = grid_result.cv_results_['std_test_score']\n",
    "params = grid_result.cv_results_['params']\n",
    "for mean, stdev, param in zip(means, stds, params):\n",
    "    print(\"%f (%f) with: %r\" % (mean, stdev, param))"
   ]
  },
  {
   "cell_type": "code",
   "execution_count": null,
   "metadata": {},
   "outputs": [],
   "source": []
  },
  {
   "cell_type": "code",
   "execution_count": null,
   "metadata": {},
   "outputs": [],
   "source": [
    "# Optimizer tuning\n",
    "def create_model(dropout_rate=0.0, weight_constraint=0):\n",
    "    model = Sequential()\n",
    "\n",
    "    model.add(Conv2D(filters=32, kernel_size=2,input_shape=(50,50,3), activation='relu'))\n",
    "    model.add(MaxPooling2D(pool_size=2))\n",
    "\n",
    "    model.add(Conv2D(filters=64, kernel_size=2,input_shape=(50,50,3), activation='relu'))\n",
    "    model.add(MaxPooling2D(pool_size=2))\n",
    "\n",
    "    model.add(Conv2D(filters=64, kernel_size=2,input_shape=(50,50,3), activation='relu'))\n",
    "    model.add(MaxPooling2D(pool_size=2))\n",
    "\n",
    "    # flatten array to 50*50\n",
    "    model.add(Flatten())\n",
    "    model.add(Dense(256,kernel_constraint=maxnorm(weight_constraint)))\n",
    "    model.add(Activation('relu'))\n",
    "    \n",
    "    # Prevent overfitting \n",
    "    model.add(Dropout(dropout_rate))\n",
    "    model.add(Dense(6))\n",
    "    model.add(Activation('softmax'))\n",
    "\n",
    "    model.compile(loss='categorical_crossentropy',\n",
    "                 optimizer='adam',\n",
    "                 metrics=['accuracy'])\n",
    "    return model\n",
    "\n",
    "model = KerasClassifier(build_fn=create_model, verbose=0,epochs=5,batch_size=33)\n",
    "weight_constraint = [1, 2, 3, 4, 5]\n",
    "dropout_rate = [0.0, 0.1, 0.2, 0.3, 0.4, 0.5, 0.6, 0.7, 0.8, 0.9]\n",
    "param_grid = dict(dropout_rate=dropout_rate, weight_constraint=weight_constraint)\n",
    "grid = GridSearchCV(estimator=model, param_grid=param_grid, cv=3)\n",
    "grid_result = grid.fit(X_test, y_test)\n",
    "\n",
    "print(\"Best: %f using %s\" % (grid_result.best_score_, grid_result.best_params_))\n",
    "means = grid_result.cv_results_['mean_test_score']\n",
    "stds = grid_result.cv_results_['std_test_score']\n",
    "params = grid_result.cv_results_['params']\n",
    "for mean, stdev, param in zip(means, stds, params):\n",
    "    print(\"%f (%f) with: %r\" % (mean, stdev, param))"
   ]
  },
  {
   "cell_type": "code",
   "execution_count": 13,
   "metadata": {},
   "outputs": [
    {
     "name": "stdout",
     "output_type": "stream",
     "text": [
      "Best: 0.549000 using {'kernel_size': 1}\n",
      "0.549000 (0.031166) with: {'kernel_size': 1}\n",
      "0.549000 (0.029090) with: {'kernel_size': 2}\n",
      "0.547000 (0.023889) with: {'kernel_size': 3}\n",
      "0.545000 (0.026469) with: {'kernel_size': 4}\n",
      "0.545000 (0.026469) with: {'kernel_size': 5}\n"
     ]
    }
   ],
   "source": [
    "# Optimizer tuning\n",
    "def create_model(kernel_size=2):\n",
    "    model = Sequential()\n",
    "\n",
    "    model.add(Conv2D(filters=32, kernel_size=kernel_size,input_shape=(50,50,3), activation='relu'))\n",
    "    model.add(MaxPooling2D(pool_size=2))\n",
    "\n",
    "    model.add(Conv2D(filters=64, kernel_size=kernel_size,input_shape=(50,50,3), activation='relu'))\n",
    "    model.add(MaxPooling2D(pool_size=2))\n",
    "\n",
    "    model.add(Conv2D(filters=64, kernel_size=kernel_size,input_shape=(50,50,3), activation='relu'))\n",
    "    model.add(MaxPooling2D(pool_size=2))\n",
    "\n",
    "    # flatten array to 50*50\n",
    "    model.add(Flatten())\n",
    "    model.add(Dense(256))\n",
    "    model.add(Activation('relu'))\n",
    "    \n",
    "    # Prevent overfitting \n",
    "    model.add(Dropout(0.4))\n",
    "    model.add(Dense(6))\n",
    "    model.add(Activation('softmax'))\n",
    "\n",
    "    model.compile(loss='categorical_crossentropy',\n",
    "                 optimizer='adam',\n",
    "                 metrics=['accuracy'])\n",
    "    return model\n",
    "\n",
    "model = KerasClassifier(build_fn=create_model, verbose=0,epochs=5,batch_size=33)\n",
    "kernel_size = [1, 2, 3, 4, 5]\n",
    "param_grid = dict(kernel_size=kernel_size)\n",
    "grid = GridSearchCV(estimator=model, param_grid=param_grid, cv=3)\n",
    "grid_result = grid.fit(X_test, y_test)\n",
    "\n",
    "print(\"Best: %f using %s\" % (grid_result.best_score_, grid_result.best_params_))\n",
    "means = grid_result.cv_results_['mean_test_score']\n",
    "stds = grid_result.cv_results_['std_test_score']\n",
    "params = grid_result.cv_results_['params']\n",
    "for mean, stdev, param in zip(means, stds, params):\n",
    "    print(\"%f (%f) with: %r\" % (mean, stdev, param))"
   ]
  },
  {
   "cell_type": "code",
   "execution_count": null,
   "metadata": {},
   "outputs": [],
   "source": []
  },
  {
   "cell_type": "code",
   "execution_count": null,
   "metadata": {},
   "outputs": [],
   "source": []
  },
  {
   "cell_type": "code",
   "execution_count": null,
   "metadata": {},
   "outputs": [],
   "source": [
    "Best: 0.629000 using {'batch_size': 33, 'epochs': 20}\n",
    "Best: 0.601000 using {'optimizer': 'Adam'}\n",
    "Best: 0.554000 using {'init_mode': 'glorot_uniform'}\n",
    "Best: 0.617000 using {'activation': 'linear'}\n",
    "Best: 0.549000 using {'kernel_size': 1}"
   ]
  },
  {
   "cell_type": "code",
   "execution_count": 28,
   "metadata": {},
   "outputs": [],
   "source": [
    "model = Sequential()\n",
    "\n",
    "model.add(Conv2D(filters=32, kernel_size=1,input_shape=(50,50,3), activation='linear'))\n",
    "model.add(MaxPooling2D(pool_size=2))\n",
    "\n",
    "model.add(Conv2D(filters=64, kernel_size=1,input_shape=(50,50,3), activation='linear'))\n",
    "model.add(MaxPooling2D(pool_size=2))\n",
    "\n",
    "model.add(Conv2D(filters=64, kernel_size=1,input_shape=(50,50,3), activation='linear'))\n",
    "model.add(MaxPooling2D(pool_size=2))\n",
    "\n",
    "# flatten array to 50*50\n",
    "model.add(Flatten())\n",
    "model.add(Dense(256,kernel_initializer='glorot_uniform'))\n",
    "model.add(Activation('linear'))\n",
    "\n",
    "# Prevent overfitting \n",
    "model.add(Dropout(0.4))\n",
    "model.add(Dense(6,kernel_initializer='glorot_uniform'))\n",
    "model.add(Activation('softmax'))\n",
    "\n",
    "model.compile(loss='categorical_crossentropy',\n",
    "              \n",
    "             optimizer='adam',\n",
    "             metrics=['accuracy'])"
   ]
  },
  {
   "cell_type": "code",
   "execution_count": 5,
   "metadata": {},
   "outputs": [],
   "source": [
    "# Split data to small size for parameter testing\n",
    "X_train, X_test, y_train, y_test = train_test_split(X, y, test_size=0.30, random_state=42)"
   ]
  },
  {
   "cell_type": "code",
   "execution_count": 23,
   "metadata": {},
   "outputs": [
    {
     "data": {
      "text/plain": [
       "(16596, 50, 50, 3)"
      ]
     },
     "execution_count": 23,
     "metadata": {},
     "output_type": "execute_result"
    }
   ],
   "source": [
    "X_train.shape"
   ]
  },
  {
   "cell_type": "code",
   "execution_count": 6,
   "metadata": {},
   "outputs": [],
   "source": [
    "# Select data for validation\n",
    "X_valid = X_test[1600:]\n",
    "y_valid = y_test[1600:]\n",
    "\n",
    "X_test = X_test[:1600]\n",
    "y_test = y_test[:1600]"
   ]
  },
  {
   "cell_type": "code",
   "execution_count": 8,
   "metadata": {},
   "outputs": [],
   "source": [
    "np.savez_compressed('numpy_files/age_test.npz',X_test=X_test,y_test=y_test,X_val=X_valid,y_val=y_valid)"
   ]
  },
  {
   "cell_type": "code",
   "execution_count": 9,
   "metadata": {},
   "outputs": [],
   "source": [
    "np.savez_compressed('numpy_files/age_train.npz',X=X_train,y=y_train)"
   ]
  },
  {
   "cell_type": "code",
   "execution_count": 29,
   "metadata": {},
   "outputs": [
    {
     "name": "stdout",
     "output_type": "stream",
     "text": [
      "Train on 16596 samples, validate on 5513 samples\n",
      "Epoch 1/20\n",
      "16596/16596 [==============================] - 14s 854us/step - loss: 1.0519 - acc: 0.6033 - val_loss: 0.8645 - val_acc: 0.6746\n",
      "Epoch 2/20\n",
      "16596/16596 [==============================] - 13s 784us/step - loss: 0.8705 - acc: 0.6691 - val_loss: 0.8149 - val_acc: 0.6949\n",
      "Epoch 3/20\n",
      "16596/16596 [==============================] - 13s 796us/step - loss: 0.8262 - acc: 0.6784 - val_loss: 0.7800 - val_acc: 0.7018\n",
      "Epoch 4/20\n",
      "16596/16596 [==============================] - 13s 798us/step - loss: 0.8007 - acc: 0.6885 - val_loss: 0.7774 - val_acc: 0.7032\n",
      "Epoch 5/20\n",
      "16596/16596 [==============================] - 13s 800us/step - loss: 0.7804 - acc: 0.6975 - val_loss: 0.7444 - val_acc: 0.7136\n",
      "Epoch 6/20\n",
      "16596/16596 [==============================] - 13s 804us/step - loss: 0.7627 - acc: 0.7030 - val_loss: 0.7495 - val_acc: 0.7109\n",
      "Epoch 7/20\n",
      "16596/16596 [==============================] - 13s 813us/step - loss: 0.7516 - acc: 0.7085 - val_loss: 0.7659 - val_acc: 0.7025\n",
      "Epoch 8/20\n",
      "16596/16596 [==============================] - 13s 799us/step - loss: 0.7391 - acc: 0.7120 - val_loss: 0.7488 - val_acc: 0.7091\n",
      "Epoch 9/20\n",
      "16596/16596 [==============================] - 13s 803us/step - loss: 0.7286 - acc: 0.7140 - val_loss: 0.7570 - val_acc: 0.7089\n",
      "Epoch 10/20\n",
      "16596/16596 [==============================] - 13s 806us/step - loss: 0.7158 - acc: 0.7229 - val_loss: 0.7689 - val_acc: 0.7043\n",
      "Epoch 11/20\n",
      "16596/16596 [==============================] - 13s 800us/step - loss: 0.7064 - acc: 0.7249 - val_loss: 0.7516 - val_acc: 0.7176\n",
      "Epoch 12/20\n",
      "16596/16596 [==============================] - 13s 805us/step - loss: 0.6971 - acc: 0.7285 - val_loss: 0.7378 - val_acc: 0.7161\n",
      "Epoch 13/20\n",
      "16596/16596 [==============================] - 13s 808us/step - loss: 0.6888 - acc: 0.7290 - val_loss: 0.7570 - val_acc: 0.7091\n",
      "Epoch 14/20\n",
      "16596/16596 [==============================] - 13s 805us/step - loss: 0.6803 - acc: 0.7338 - val_loss: 0.7468 - val_acc: 0.7121\n",
      "Epoch 15/20\n",
      "16596/16596 [==============================] - 13s 809us/step - loss: 0.6757 - acc: 0.7321 - val_loss: 0.7375 - val_acc: 0.7198\n",
      "Epoch 16/20\n",
      "16596/16596 [==============================] - 13s 806us/step - loss: 0.6639 - acc: 0.7422 - val_loss: 0.7574 - val_acc: 0.7154\n",
      "Epoch 17/20\n",
      "16596/16596 [==============================] - 13s 803us/step - loss: 0.6597 - acc: 0.7428 - val_loss: 0.7491 - val_acc: 0.7125\n",
      "Epoch 18/20\n",
      "16596/16596 [==============================] - 13s 809us/step - loss: 0.6493 - acc: 0.7452 - val_loss: 0.7375 - val_acc: 0.7094\n",
      "Epoch 19/20\n",
      "16596/16596 [==============================] - 13s 809us/step - loss: 0.6403 - acc: 0.7490 - val_loss: 0.7567 - val_acc: 0.7045\n",
      "Epoch 20/20\n",
      "16596/16596 [==============================] - 14s 821us/step - loss: 0.6387 - acc: 0.7499 - val_loss: 0.8042 - val_acc: 0.7052\n"
     ]
    },
    {
     "data": {
      "text/plain": [
       "<keras.callbacks.History at 0x231884ba860>"
      ]
     },
     "execution_count": 29,
     "metadata": {},
     "output_type": "execute_result"
    }
   ],
   "source": [
    "model.fit(X_train,\n",
    "         y_train,\n",
    "         batch_size=33,\n",
    "         epochs=20,\n",
    "         validation_data=(X_valid, y_valid))"
   ]
  },
  {
   "cell_type": "code",
   "execution_count": 30,
   "metadata": {},
   "outputs": [
    {
     "name": "stdout",
     "output_type": "stream",
     "text": [
      "Accuracy: 0.708125\n",
      "Classification Report: \n",
      "             precision    recall  f1-score   support\n",
      "\n",
      "          0       0.81      0.81      0.81       112\n",
      "          1       0.58      0.50      0.54       141\n",
      "          2       0.29      0.41      0.34        51\n",
      "          3       0.92      0.76      0.83      1027\n",
      "          4       0.40      0.66      0.50       213\n",
      "          5       0.36      0.59      0.45        56\n",
      "\n",
      "avg / total       0.77      0.71      0.73      1600\n",
      "\n"
     ]
    }
   ],
   "source": [
    "y_pred = model.predict_classes(X_test)\n",
    "y_cat= to_categorical(y_pred,6)\n",
    "print(f\"Accuracy: {accuracy_score(y_cat,y_test)}\")\n",
    "print(f\"Classification Report: \\n{classification_report(y_cat,y_test)}\")"
   ]
  },
  {
   "cell_type": "code",
   "execution_count": null,
   "metadata": {},
   "outputs": [],
   "source": []
  }
 ],
 "metadata": {
  "kernelspec": {
   "display_name": "Python 3",
   "language": "python",
   "name": "python3"
  },
  "language_info": {
   "codemirror_mode": {
    "name": "ipython",
    "version": 3
   },
   "file_extension": ".py",
   "mimetype": "text/x-python",
   "name": "python",
   "nbconvert_exporter": "python",
   "pygments_lexer": "ipython3",
   "version": "3.6.6"
  }
 },
 "nbformat": 4,
 "nbformat_minor": 2
}
