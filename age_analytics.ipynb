{
 "cells": [
  {
   "cell_type": "code",
   "execution_count": 1,
   "metadata": {},
   "outputs": [],
   "source": [
    "%config Completer.use_jedi = False"
   ]
  },
  {
   "cell_type": "code",
   "execution_count": 2,
   "metadata": {},
   "outputs": [
    {
     "name": "stderr",
     "output_type": "stream",
     "text": [
      "Using TensorFlow backend.\n",
      "C:\\Users\\sed\\anaconda3\\envs\\python-cvcourse\\lib\\site-packages\\sklearn\\ensemble\\weight_boosting.py:29: DeprecationWarning: numpy.core.umath_tests is an internal NumPy module and should not be imported. It will be removed in a future NumPy release.\n",
      "  from numpy.core.umath_tests import inner1d\n"
     ]
    }
   ],
   "source": [
    "import pandas as pd\n",
    "import numpy as np\n",
    "import cv2\n",
    "import matplotlib.pyplot as plt\n",
    "from keras.models import load_model\n",
    "from sklearn.model_selection import train_test_split\n",
    "from sklearn.metrics import classification_report,accuracy_score\n",
    "from keras.utils.np_utils import to_categorical\n",
    "from imblearn.under_sampling import RandomUnderSampler \n",
    "from keras.models import Sequential\n",
    "from keras.layers import Activation, Dropout, Flatten, Dense, Conv2D, MaxPooling2D"
   ]
  },
  {
   "cell_type": "code",
   "execution_count": 3,
   "metadata": {},
   "outputs": [],
   "source": [
    "# load train data\n",
    "train_data =np.load('numpy_files/age_train.npz')\n",
    "X_train =train_data['X']\n",
    "y_train =train_data['y']\n",
    "\n",
    "# load test data\n",
    "test_data =np.load('numpy_files/age_test.npz')\n",
    "\n",
    "# split into X & Y\n",
    "X_test =test_data['X_test']\n",
    "y_test =test_data['y_test']\n",
    "\n",
    "# Create a dataframe with the Y data\n",
    "y_df = pd.DataFrame(y_test)\n",
    "\n",
    "# load the trained model\n",
    "model = load_model('age_estimator.h5')"
   ]
  },
  {
   "cell_type": "code",
   "execution_count": 4,
   "metadata": {},
   "outputs": [
    {
     "data": {
      "text/plain": [
       "0    112\n",
       "1    120\n",
       "2     72\n",
       "3    849\n",
       "4    355\n",
       "5     92\n",
       "Name: 1, dtype: int64"
      ]
     },
     "execution_count": 4,
     "metadata": {},
     "output_type": "execute_result"
    }
   ],
   "source": [
    "#y_df.value_counts().sort_index()\n",
    "indi =np.argmax(to_categorical(y_df),axis=1,)\n",
    "\n",
    "new_df = pd.DataFrame(indi)\n",
    "new_df[1].value_counts().sort_index()"
   ]
  },
  {
   "cell_type": "code",
   "execution_count": 5,
   "metadata": {},
   "outputs": [
    {
     "data": {
      "text/plain": [
       "<matplotlib.axes._subplots.AxesSubplot at 0x296de3b0fd0>"
      ]
     },
     "execution_count": 5,
     "metadata": {},
     "output_type": "execute_result"
    },
    {
     "data": {
      "image/png": "[encoded data removed]",
      "text/plain": [
       "<Figure size 432x288 with 1 Axes>"
      ]
     },
     "metadata": {
      "needs_background": "light"
     },
     "output_type": "display_data"
    }
   ],
   "source": [
    "new_df[1].value_counts().sort_index().plot(kind ='bar')"
   ]
  },
  {
   "cell_type": "markdown",
   "metadata": {},
   "source": [
    "When observing the var graph above it is clear to see that there is a a large majority of images that are classified as class three (Adults between 20 and 40) the second largest is class 4 (adults between 40 and 65).There are far fewer people under 20 and over 65. This imbalance in data can lead to a potential classifier bias towards the majority classes."
   ]
  },
  {
   "cell_type": "markdown",
   "metadata": {},
   "source": [
    "## Classify test data using model"
   ]
  },
  {
   "cell_type": "code",
   "execution_count": 6,
   "metadata": {},
   "outputs": [
    {
     "name": "stdout",
     "output_type": "stream",
     "text": [
      "Accuracy: 0.765\n",
      "Classification Report: \n",
      "             precision    recall  f1-score   support\n",
      "\n",
      "          0       0.85      0.85      0.85       112\n",
      "          1       0.52      0.76      0.61        82\n",
      "          2       0.28      0.47      0.35        43\n",
      "          3       0.92      0.79      0.85       980\n",
      "          4       0.59      0.71      0.64       296\n",
      "          5       0.64      0.68      0.66        87\n",
      "\n",
      "avg / total       0.80      0.77      0.78      1600\n",
      "\n"
     ]
    }
   ],
   "source": [
    "y_pred = model.predict_classes(X_test)\n",
    "y_cat= to_categorical(y_pred,6)\n",
    "print(f\"Accuracy: {accuracy_score(y_cat,y_test)}\")\n",
    "print(f\"Classification Report: \\n{classification_report(y_cat,y_test)}\")"
   ]
  },
  {
   "cell_type": "markdown",
   "metadata": {},
   "source": [
    "When observing the results above the classifier bias is fairly obvious when looking at the recall values as class 2 is predicted with the lowest frequency. The large size of class 3 is also refelected in the precision in which it is estimated. It is interesting to note that all though class 0 had the second smallest data set it achieved the joint highest f1-score. While class 4 which was the second largest dataset achived a poorer f1-score than classes 5 and zero which were both smallers datasets. "
   ]
  },
  {
   "cell_type": "markdown",
   "metadata": {},
   "source": [
    "## Reducing imbalanced datasets\n",
    "There are a number of methods to reduce the imbalance throughout the entire dataset.\n",
    "\n",
    "- Undersampling to randomly reducing the the number of images in class 3 and 4.\n",
    "\n",
    "\n",
    "- Adding a new class to break up class 3 so there would be 7 classes in total\n",
    "\n",
    "\n",
    "- Conduct data augmentation by manipulating the existing images to create new similar images thus increasing the datset size for the smaller datasets. "
   ]
  },
  {
   "cell_type": "code",
   "execution_count": 7,
   "metadata": {},
   "outputs": [],
   "source": [
    "# Load the X and y data\n",
    "age_data = np.load('numpy_files/age_data.npz')\n",
    "X_data = age_data['X']\n",
    "y_data = age_data['y']\n",
    "\n",
    "\n",
    "# Normalise the data\n",
    "X_data = X_data/255"
   ]
  },
  {
   "cell_type": "markdown",
   "metadata": {},
   "source": [
    "## Split data into train and test"
   ]
  },
  {
   "cell_type": "code",
   "execution_count": 8,
   "metadata": {},
   "outputs": [],
   "source": [
    "# Split data to small size for parameter testing\n",
    "X_train, X_test, y_train, y_test = train_test_split(X_data, y_data, test_size=0.30, random_state=42)"
   ]
  },
  {
   "cell_type": "code",
   "execution_count": 9,
   "metadata": {},
   "outputs": [
    {
     "data": {
      "text/plain": [
       "(16596, 50, 50, 3)"
      ]
     },
     "execution_count": 9,
     "metadata": {},
     "output_type": "execute_result"
    }
   ],
   "source": [
    "X_train.shape"
   ]
  },
  {
   "cell_type": "markdown",
   "metadata": {},
   "source": [
    "# Random Undersampling"
   ]
  },
  {
   "cell_type": "markdown",
   "metadata": {},
   "source": [
    "The imbalance learn module will be used to reduce the size of the majority class in this case class 3."
   ]
  },
  {
   "cell_type": "code",
   "execution_count": 10,
   "metadata": {},
   "outputs": [],
   "source": [
    "def reduce_majority(X,y,cls=3):\n",
    "    \"\"\" reduce the majority class data by half \"\"\"\n",
    "    X_under = []\n",
    "    y_under = []\n",
    "    maj_ttl = 0\n",
    "    for i, face in enumerate(X):\n",
    "        age = y[i]\n",
    "        if age ==cls:\n",
    "            maj_ttl+=1\n",
    "            if maj_ttl%2 ==0:\n",
    "                X_under.append(face)\n",
    "                y_under.append(age)\n",
    "        else:\n",
    "            X_under.append(face)\n",
    "            y_under.append(age)\n",
    "            \n",
    "    X_under=np.array(X_under)\n",
    "    y_under = np.array(y_under)\n",
    "    return X_under,y_under"
   ]
  },
  {
   "cell_type": "code",
   "execution_count": 11,
   "metadata": {},
   "outputs": [],
   "source": [
    "X_under,y_under =reduce_majority(X_train,y_train,cls=3)"
   ]
  },
  {
   "cell_type": "code",
   "execution_count": 12,
   "metadata": {},
   "outputs": [
    {
     "data": {
      "text/plain": [
       "(12452, 50, 50, 3)"
      ]
     },
     "execution_count": 12,
     "metadata": {},
     "output_type": "execute_result"
    }
   ],
   "source": [
    "X_under.shape"
   ]
  },
  {
   "cell_type": "code",
   "execution_count": 13,
   "metadata": {},
   "outputs": [
    {
     "data": {
      "text/plain": [
       "0     1605\n",
       "1     1808\n",
       "2     1180\n",
       "3    11881\n",
       "4     5536\n",
       "5     1699\n",
       "Name: 0, dtype: int64"
      ]
     },
     "execution_count": 13,
     "metadata": {},
     "output_type": "execute_result"
    }
   ],
   "source": [
    "y_full = pd.DataFrame(y_data)\n",
    "y_full[0].value_counts().sort_index()"
   ]
  },
  {
   "cell_type": "code",
   "execution_count": 14,
   "metadata": {},
   "outputs": [
    {
     "data": {
      "text/plain": [
       "0    1118\n",
       "1    1286\n",
       "2     848\n",
       "3    4143\n",
       "4    3867\n",
       "5    1190\n",
       "Name: 0, dtype: int64"
      ]
     },
     "execution_count": 14,
     "metadata": {},
     "output_type": "execute_result"
    }
   ],
   "source": [
    "y_samp = pd.DataFrame(y_under)\n",
    "y_samp[0].value_counts().sort_index()"
   ]
  },
  {
   "cell_type": "code",
   "execution_count": 15,
   "metadata": {},
   "outputs": [
    {
     "data": {
      "text/plain": [
       "<matplotlib.axes._subplots.AxesSubplot at 0x296deb4c240>"
      ]
     },
     "execution_count": 15,
     "metadata": {},
     "output_type": "execute_result"
    },
    {
     "data": {
      "image/png": "[encoded data removed]",
      "text/plain": [
       "<Figure size 432x288 with 1 Axes>"
      ]
     },
     "metadata": {
      "needs_background": "light"
     },
     "output_type": "display_data"
    }
   ],
   "source": [
    "y_samp[0].value_counts().sort_index().plot(kind ='bar')"
   ]
  },
  {
   "cell_type": "code",
   "execution_count": 16,
   "metadata": {},
   "outputs": [
    {
     "data": {
      "text/plain": [
       "<matplotlib.image.AxesImage at 0x296d6011e48>"
      ]
     },
     "execution_count": 16,
     "metadata": {},
     "output_type": "execute_result"
    },
    {
     "data": {
      "image/png": "[encoded data removed]",
      "text/plain": [
       "<Figure size 432x288 with 1 Axes>"
      ]
     },
     "metadata": {
      "needs_background": "light"
     },
     "output_type": "display_data"
    }
   ],
   "source": [
    "plt.imshow(X_under[0])"
   ]
  },
  {
   "cell_type": "code",
   "execution_count": 17,
   "metadata": {},
   "outputs": [],
   "source": [
    "# Catgorise the y data\n",
    "y_under_cat = to_categorical(y_under,6)\n",
    "y_test = to_categorical(y_test,6)"
   ]
  },
  {
   "cell_type": "code",
   "execution_count": 18,
   "metadata": {},
   "outputs": [
    {
     "data": {
      "text/plain": [
       "2"
      ]
     },
     "execution_count": 18,
     "metadata": {},
     "output_type": "execute_result"
    }
   ],
   "source": [
    "y_under[0]"
   ]
  },
  {
   "cell_type": "code",
   "execution_count": 19,
   "metadata": {},
   "outputs": [
    {
     "data": {
      "text/plain": [
       "(7113, 50, 50, 3)"
      ]
     },
     "execution_count": 19,
     "metadata": {},
     "output_type": "execute_result"
    }
   ],
   "source": [
    "X_test.shape"
   ]
  },
  {
   "cell_type": "code",
   "execution_count": 20,
   "metadata": {},
   "outputs": [
    {
     "data": {
      "text/plain": [
       "(6613, 50, 50, 3)"
      ]
     },
     "execution_count": 20,
     "metadata": {},
     "output_type": "execute_result"
    }
   ],
   "source": [
    "# Select data for validation\n",
    "X_valid = X_test[6613:]\n",
    "y_valid = y_test[6613:]\n",
    "\n",
    "X_test = X_test[:6613]\n",
    "y_test = y_test[:6613]\n",
    "X_test.shape"
   ]
  },
  {
   "cell_type": "code",
   "execution_count": 21,
   "metadata": {},
   "outputs": [],
   "source": [
    "# Optimizer tuning\n",
    "def create_model():\n",
    "    model = Sequential()\n",
    "\n",
    "    model.add(Conv2D(filters=32, kernel_size=2,input_shape=(50,50,3), activation='linear'))\n",
    "    model.add(MaxPooling2D(pool_size=2))\n",
    "\n",
    "    model.add(Conv2D(filters=64, kernel_size=2,input_shape=(50,50,3), activation='linear'))\n",
    "    model.add(MaxPooling2D(pool_size=2))\n",
    "    \n",
    "    model.add(Conv2D(filters=64, kernel_size=2,input_shape=(50,50,3), activation='linear'))\n",
    "    model.add(MaxPooling2D(pool_size=2))\n",
    "\n",
    "    # flatten array to 50*50\n",
    "    model.add(Flatten())\n",
    "    model.add(Dense(256))\n",
    "    model.add(Activation('linear'))\n",
    "    \n",
    "    # Prevent overfitting \n",
    "    model.add(Dropout(0.4))\n",
    "    model.add(Dense(6))\n",
    "    model.add(Activation('softmax'))\n",
    "\n",
    "    model.compile(loss='categorical_crossentropy',\n",
    "                 optimizer='adam',\n",
    "                 metrics=['accuracy'])\n",
    "    return model"
   ]
  },
  {
   "cell_type": "code",
   "execution_count": 22,
   "metadata": {},
   "outputs": [
    {
     "name": "stdout",
     "output_type": "stream",
     "text": [
      "Train on 12452 samples, validate on 500 samples\n",
      "Epoch 1/10\n",
      "12452/12452 [==============================] - 12s 934us/step - loss: 1.1572 - acc: 0.5399 - val_loss: 0.9060 - val_acc: 0.6360\n",
      "Epoch 2/10\n",
      "12452/12452 [==============================] - 11s 863us/step - loss: 0.8867 - acc: 0.6409 - val_loss: 0.7676 - val_acc: 0.6620\n",
      "Epoch 3/10\n",
      "12452/12452 [==============================] - 11s 885us/step - loss: 0.7933 - acc: 0.6770 - val_loss: 0.7088 - val_acc: 0.7020\n",
      "Epoch 4/10\n",
      "12452/12452 [==============================] - 12s 935us/step - loss: 0.7420 - acc: 0.7000 - val_loss: 0.7782 - val_acc: 0.6520\n",
      "Epoch 5/10\n",
      "12452/12452 [==============================] - 12s 934us/step - loss: 0.6871 - acc: 0.7251 - val_loss: 0.6514 - val_acc: 0.7200\n",
      "Epoch 6/10\n",
      "12452/12452 [==============================] - 11s 904us/step - loss: 0.6492 - acc: 0.7372 - val_loss: 0.6707 - val_acc: 0.6920\n",
      "Epoch 7/10\n",
      "12452/12452 [==============================] - 11s 892us/step - loss: 0.6099 - acc: 0.7539 - val_loss: 0.6321 - val_acc: 0.7640\n",
      "Epoch 8/10\n",
      "12452/12452 [==============================] - 11s 909us/step - loss: 0.5695 - acc: 0.7676 - val_loss: 0.6460 - val_acc: 0.7520\n",
      "Epoch 9/10\n",
      "12452/12452 [==============================] - 12s 932us/step - loss: 0.5456 - acc: 0.7807 - val_loss: 0.6807 - val_acc: 0.7320\n",
      "Epoch 10/10\n",
      "12452/12452 [==============================] - 11s 922us/step - loss: 0.5143 - acc: 0.7940 - val_loss: 0.6567 - val_acc: 0.76008s - l\n",
      "Accuracy: 0.7550279752003629\n",
      "Classification Report: \n",
      "             precision    recall  f1-score   support\n",
      "\n",
      "          0       0.74      0.91      0.82       365\n",
      "          1       0.77      0.65      0.70       570\n",
      "          2       0.28      0.48      0.35       178\n",
      "          3       0.87      0.82      0.85      3583\n",
      "          4       0.65      0.65      0.65      1538\n",
      "          5       0.55      0.70      0.62       379\n",
      "\n",
      "avg / total       0.77      0.76      0.76      6613\n",
      "\n"
     ]
    }
   ],
   "source": [
    "model =create_model()\n",
    "model.fit(X_under,\n",
    "         y_under_cat,\n",
    "         batch_size=64,\n",
    "         epochs=10,\n",
    "         validation_data=(X_valid, y_valid))\n",
    "\n",
    "y_pred = model.predict_classes(X_test)\n",
    "y_cat= to_categorical(y_pred,6)\n",
    "print(f\"Accuracy: {accuracy_score(y_cat,y_test)}\")\n",
    "print(f\"Classification Report: \\n{classification_report(y_cat,y_test)}\")"
   ]
  },
  {
   "cell_type": "markdown",
   "metadata": {},
   "source": [
    "When the majority class is reduced there is an overall reduce in the accuracy from 0.765 to 0.708. There was also a reduction of the f1-score from 0.78 to 0.70. With the largest fall evident in the reduction in f1-score of class 3 from 0.85 to 0.79. There was however a small improvement in f1-scores for class 1,2 and 4. a small reduction was seen in the f1-score of class 5."
   ]
  },
  {
   "cell_type": "markdown",
   "metadata": {},
   "source": [
    "## Data augmentation"
   ]
  },
  {
   "cell_type": "code",
   "execution_count": 23,
   "metadata": {},
   "outputs": [],
   "source": [
    "from keras.preprocessing.image import ImageDataGenerator\n",
    "image_gen = ImageDataGenerator(rotation_range=15, # rotate the image 30 degrees\n",
    "                               width_shift_range=0.1, # Shift the pic width by a max of 10%\n",
    "                               height_shift_range=0.1, # Shift the pic height by a max of 10%\n",
    "                               rescale=1/255, # Rescale the image by normalzing it.\n",
    "                               shear_range=0.2, # Shear means cutting away part of the image (max 20%)\n",
    "                               zoom_range=0.2, # Zoom in by 20% max\n",
    "                               horizontal_flip=True, # Allo horizontal flipping\n",
    "                               fill_mode='nearest' # Fill in missing pixels with the nearest filled value\n",
    "                              )"
   ]
  },
  {
   "cell_type": "code",
   "execution_count": 24,
   "metadata": {},
   "outputs": [],
   "source": [
    "def augment_minority(X,y,iterations=1,majority_classes=[3,4]):\n",
    "    \"\"\" Augment the images to add new images \"\"\"\n",
    "    # Store augmented images\n",
    "    X_aug = []\n",
    "    y_aug = []\n",
    "    for i in range(iterations):\n",
    "        for j, face in enumerate(X):\n",
    "            \n",
    "            # Only augment the minority classes\n",
    "            age = y[j]\n",
    "            if age not in majority_classes:\n",
    "                # randomly trasnform the image\n",
    "                img = image_gen.random_transform(face)\n",
    "                X_aug.append(img)\n",
    "                y_aug.append(age)\n",
    "\n",
    "    X_aug = np.array(X_aug)\n",
    "    y_aug = np.array(y_aug)\n",
    "    return X_aug,y_aug\n",
    "\n"
   ]
  },
  {
   "cell_type": "code",
   "execution_count": 25,
   "metadata": {},
   "outputs": [],
   "source": [
    "X_aug,y_aug= augment_minority(X_train,y_train)"
   ]
  },
  {
   "cell_type": "code",
   "execution_count": 26,
   "metadata": {},
   "outputs": [
    {
     "data": {
      "text/plain": [
       "((4442, 50, 50, 3), (4442,))"
      ]
     },
     "execution_count": 26,
     "metadata": {},
     "output_type": "execute_result"
    }
   ],
   "source": [
    "X_aug.shape,y_aug.shape"
   ]
  },
  {
   "cell_type": "code",
   "execution_count": 27,
   "metadata": {},
   "outputs": [],
   "source": [
    "X_over = np.concatenate((X_train,X_aug))\n",
    "y_over = np.concatenate((y_train,y_aug))"
   ]
  },
  {
   "cell_type": "code",
   "execution_count": 28,
   "metadata": {},
   "outputs": [
    {
     "data": {
      "text/plain": [
       "((21038, 50, 50, 3), (21038,))"
      ]
     },
     "execution_count": 28,
     "metadata": {},
     "output_type": "execute_result"
    }
   ],
   "source": [
    "X_over.shape,y_over.shape"
   ]
  },
  {
   "cell_type": "code",
   "execution_count": 29,
   "metadata": {},
   "outputs": [],
   "source": [
    "y_over_df =pd.DataFrame(y_over)"
   ]
  },
  {
   "cell_type": "code",
   "execution_count": 30,
   "metadata": {},
   "outputs": [
    {
     "data": {
      "text/plain": [
       "<matplotlib.axes._subplots.AxesSubplot at 0x296d70deb00>"
      ]
     },
     "execution_count": 30,
     "metadata": {},
     "output_type": "execute_result"
    },
    {
     "data": {
      "image/png": "[encoded data removed]",
      "text/plain": [
       "<Figure size 432x288 with 1 Axes>"
      ]
     },
     "metadata": {
      "needs_background": "light"
     },
     "output_type": "display_data"
    }
   ],
   "source": [
    "y_over_df[0].value_counts().sort_index().plot(kind ='bar')"
   ]
  },
  {
   "cell_type": "code",
   "execution_count": 31,
   "metadata": {},
   "outputs": [],
   "source": [
    "# Catgorise the y data\n",
    "y_over_cat = to_categorical(y_over,6)"
   ]
  },
  {
   "cell_type": "code",
   "execution_count": 32,
   "metadata": {},
   "outputs": [
    {
     "name": "stdout",
     "output_type": "stream",
     "text": [
      "Train on 21038 samples, validate on 500 samples\n",
      "Epoch 1/10\n",
      "21038/21038 [==============================] - 20s 940us/step - loss: 1.1378 - acc: 0.5632 - val_loss: 0.8325 - val_acc: 0.6780\n",
      "Epoch 2/10\n",
      "21038/21038 [==============================] - 20s 927us/step - loss: 0.8424 - acc: 0.6725 - val_loss: 0.7083 - val_acc: 0.7320\n",
      "Epoch 3/10\n",
      "21038/21038 [==============================] - 19s 899us/step - loss: 0.7440 - acc: 0.7085 - val_loss: 0.6762 - val_acc: 0.7300\n",
      "Epoch 4/10\n",
      "21038/21038 [==============================] - 19s 922us/step - loss: 0.6865 - acc: 0.7318 - val_loss: 0.6535 - val_acc: 0.7380\n",
      "Epoch 5/10\n",
      "21038/21038 [==============================] - 20s 968us/step - loss: 0.6348 - acc: 0.7526 - val_loss: 0.6651 - val_acc: 0.7500\n",
      "Epoch 6/10\n",
      "21038/21038 [==============================] - 20s 960us/step - loss: 0.5972 - acc: 0.7645 - val_loss: 0.6311 - val_acc: 0.7460\n",
      "Epoch 7/10\n",
      "21038/21038 [==============================] - 20s 943us/step - loss: 0.5730 - acc: 0.7705 - val_loss: 0.6765 - val_acc: 0.7440\n",
      "Epoch 8/10\n",
      "21038/21038 [==============================] - 21s 1ms/step - loss: 0.5426 - acc: 0.7887 - val_loss: 0.6498 - val_acc: 0.7400\n",
      "Epoch 9/10\n",
      "21038/21038 [==============================] - 21s 996us/step - loss: 0.5046 - acc: 0.8017 - val_loss: 0.6550 - val_acc: 0.7500\n",
      "Epoch 10/10\n",
      "21038/21038 [==============================] - 21s 1ms/step - loss: 0.4801 - acc: 0.8117 - val_loss: 0.6975 - val_acc: 0.7220ETA: 0s - loss: 0.4799 - acc: 0. - ETA: 0s - loss: 0.4801 - ac\n",
      "Accuracy: 0.7482231967337063\n",
      "Classification Report: \n",
      "             precision    recall  f1-score   support\n",
      "\n",
      "          0       0.84      0.86      0.85       442\n",
      "          1       0.72      0.67      0.70       516\n",
      "          2       0.30      0.47      0.37       192\n",
      "          3       0.84      0.84      0.84      3380\n",
      "          4       0.73      0.61      0.66      1841\n",
      "          5       0.39      0.76      0.51       242\n",
      "\n",
      "avg / total       0.77      0.75      0.75      6613\n",
      "\n"
     ]
    }
   ],
   "source": [
    "model =create_model()\n",
    "model.fit(X_over,\n",
    "         y_over_cat,\n",
    "         batch_size=64,\n",
    "         epochs=10,\n",
    "         validation_data=(X_valid, y_valid))\n",
    "\n",
    "y_pred = model.predict_classes(X_test)\n",
    "y_cat= to_categorical(y_pred,6)\n",
    "print(f\"Accuracy: {accuracy_score(y_cat,y_test)}\")\n",
    "print(f\"Classification Report: \\n{classification_report(y_cat,y_test)}\")"
   ]
  },
  {
   "cell_type": "markdown",
   "metadata": {},
   "source": [
    "When comparing the above model with over sampling it achieves a poore accuracy than the original model  with a fall from 0.765 to 0.746. The f1-scores of classes 3 and 4 have fallen. \n",
    "\n",
    "when compared to the undersampled model the accuracy is superior with 0.708 and 0.746 respectively. "
   ]
  },
  {
   "cell_type": "code",
   "execution_count": 33,
   "metadata": {},
   "outputs": [],
   "source": [
    "model.save('age_classifier_oversampled.h5')"
   ]
  },
  {
   "cell_type": "markdown",
   "metadata": {},
   "source": [
    "### Increase number of Augmented images"
   ]
  },
  {
   "cell_type": "code",
   "execution_count": 34,
   "metadata": {},
   "outputs": [],
   "source": [
    "# Augment in range 2\n",
    "X_aug1,y_aug1= augment_minority(X_train,y_train,iterations=1)\n",
    "\n",
    "# Augment for class 2 the minority class only\n",
    "X_aug2,y_aug2= augment_minority(X_train,y_train,majority_classes=[0,1,3,4,5],iterations=1)\n",
    "\n",
    "# combine the 2 concatenations\n",
    "X_aug = np.concatenate((X_aug1,X_aug2))\n",
    "y_aug = np.concatenate((y_aug1,y_aug2))\n",
    "\n",
    "# Combine original with augmented\n",
    "X_over = np.concatenate((X_train,X_aug))\n",
    "y_over = np.concatenate((y_train,y_aug))"
   ]
  },
  {
   "cell_type": "code",
   "execution_count": 35,
   "metadata": {},
   "outputs": [
    {
     "data": {
      "text/plain": [
       "<matplotlib.axes._subplots.AxesSubplot at 0x296e10d59b0>"
      ]
     },
     "execution_count": 35,
     "metadata": {},
     "output_type": "execute_result"
    },
    {
     "data": {
      "image/png": "[encoded data removed]",
      "text/plain": [
       "<Figure size 432x288 with 1 Axes>"
      ]
     },
     "metadata": {
      "needs_background": "light"
     },
     "output_type": "display_data"
    }
   ],
   "source": [
    "y_over_df =pd.DataFrame(y_over)\n",
    "\n",
    "y_over_df[0].value_counts().sort_index().plot(kind ='bar')"
   ]
  },
  {
   "cell_type": "code",
   "execution_count": 36,
   "metadata": {},
   "outputs": [
    {
     "data": {
      "text/plain": [
       "0    2236\n",
       "1    2572\n",
       "2    2544\n",
       "3    8287\n",
       "4    3867\n",
       "5    2380\n",
       "Name: 0, dtype: int64"
      ]
     },
     "execution_count": 36,
     "metadata": {},
     "output_type": "execute_result"
    }
   ],
   "source": [
    "y_over_df[0].value_counts().sort_index()"
   ]
  },
  {
   "cell_type": "code",
   "execution_count": 37,
   "metadata": {},
   "outputs": [
    {
     "data": {
      "text/plain": [
       "(21886, 50, 50, 3)"
      ]
     },
     "execution_count": 37,
     "metadata": {},
     "output_type": "execute_result"
    }
   ],
   "source": [
    "X_over.shape"
   ]
  },
  {
   "cell_type": "code",
   "execution_count": 38,
   "metadata": {},
   "outputs": [],
   "source": [
    "# Catgorise the y data\n",
    "y_over_cat = to_categorical(y_over,6)"
   ]
  },
  {
   "cell_type": "code",
   "execution_count": 39,
   "metadata": {},
   "outputs": [
    {
     "name": "stdout",
     "output_type": "stream",
     "text": [
      "Train on 21886 samples, validate on 500 samples\n",
      "Epoch 1/10\n",
      "21886/21886 [==============================] - 24s 1ms/step - loss: 1.1136 - acc: 0.5671 - val_loss: 0.8309 - val_acc: 0.6880A: 12s -  - ETA: 2s - loss: 1.1416 - ac - ETA: \n",
      "Epoch 2/10\n",
      "21886/21886 [==============================] - 22s 990us/step - loss: 0.8463 - acc: 0.6726 - val_loss: 0.7465 - val_acc: 0.7260\n",
      "Epoch 3/10\n",
      "21886/21886 [==============================] - 22s 996us/step - loss: 0.7476 - acc: 0.7076 - val_loss: 0.7165 - val_acc: 0.7160 6s - loss: 0.7531 - - ETA: 5s - loss - ETA: 4s - loss - ETA: 3s - loss: 0.7501 - ETA: 2s - loss: 0.7 - ETA: 1s - loss: 0.7\n",
      "Epoch 4/10\n",
      "21886/21886 [==============================] - 22s 992us/step - loss: 0.6952 - acc: 0.7279 - val_loss: 0.7105 - val_acc: 0.73204s -  - ETA: 3s - loss: 0 - ETA: 2s - lo - ETA: 0s - loss: 0.6953 - acc\n",
      "Epoch 5/10\n",
      "21886/21886 [==============================] - 24s 1ms/step - loss: 0.6513 - acc: 0.7446 - val_loss: 0.6954 - val_acc: 0.7300\n",
      "Epoch 6/10\n",
      "21886/21886 [==============================] - 22s 1ms/step - loss: 0.6135 - acc: 0.7605 - val_loss: 0.6969 - val_acc: 0.7340\n",
      "Epoch 7/10\n",
      "21886/21886 [==============================] - 22s 1ms/step - loss: 0.5761 - acc: 0.7717 - val_loss: 0.6670 - val_acc: 0.7440\n",
      "Epoch 8/10\n",
      "21886/21886 [==============================] - 22s 1ms/step - loss: 0.5375 - acc: 0.7879 - val_loss: 0.7012 - val_acc: 0.7260 - loss: 0.5191 - ETA: 11s - loss: 0 - ETA: 5s - loss - ETA: 1s - los\n",
      "Epoch 9/10\n",
      "21886/21886 [==============================] - 22s 1ms/step - loss: 0.5131 - acc: 0.7979 - val_loss: 0.6930 - val_acc: 0.74000.5127 - ac - ETA: 1s - loss: 0.\n",
      "Epoch 10/10\n",
      "21886/21886 [==============================] - 22s 1ms/step - loss: 0.4914 - acc: 0.8064 - val_loss: 0.7159 - val_acc: 0.7420ss: 0.\n",
      "Accuracy: 0.7350672916981703\n",
      "Classification Report: \n",
      "             precision    recall  f1-score   support\n",
      "\n",
      "          0       0.77      0.91      0.83       382\n",
      "          1       0.68      0.65      0.67       505\n",
      "          2       0.44      0.35      0.39       389\n",
      "          3       0.85      0.82      0.83      3478\n",
      "          4       0.59      0.65      0.62      1388\n",
      "          5       0.61      0.62      0.62       471\n",
      "\n",
      "avg / total       0.74      0.74      0.73      6613\n",
      "\n"
     ]
    }
   ],
   "source": [
    "model =create_model()\n",
    "model.fit(X_over,\n",
    "         y_over_cat,\n",
    "         batch_size=64,\n",
    "         epochs=10,\n",
    "         validation_data=(X_valid, y_valid))\n",
    "\n",
    "y_pred = model.predict_classes(X_test)\n",
    "y_cat= to_categorical(y_pred,6)\n",
    "print(f\"Accuracy: {accuracy_score(y_cat,y_test)}\")\n",
    "print(f\"Classification Report: \\n{classification_report(y_cat,y_test)}\")"
   ]
  },
  {
   "cell_type": "markdown",
   "metadata": {},
   "source": [
    "When comparing the results of the first augmentation of the images there is a small improvement to the overall accuracy from 0.709 to 0.74. Class 1 and 4 saw a small reduction in f1-score. while all of the other classes saw improvement especially class 2 due to the tripple augmentation."
   ]
  },
  {
   "cell_type": "markdown",
   "metadata": {},
   "source": [
    "## Combination of Over and Undersampling model"
   ]
  },
  {
   "cell_type": "code",
   "execution_count": 40,
   "metadata": {},
   "outputs": [],
   "source": [
    "X_OU,y_OU = reduce_majority(X_over,y_over,cls=3)"
   ]
  },
  {
   "cell_type": "code",
   "execution_count": 41,
   "metadata": {},
   "outputs": [
    {
     "data": {
      "text/plain": [
       "((17742, 50, 50, 3), (17742,))"
      ]
     },
     "execution_count": 41,
     "metadata": {},
     "output_type": "execute_result"
    }
   ],
   "source": [
    "X_OU.shape,y_OU.shape"
   ]
  },
  {
   "cell_type": "code",
   "execution_count": 42,
   "metadata": {},
   "outputs": [
    {
     "data": {
      "text/plain": [
       "0    2236\n",
       "1    2572\n",
       "2    2544\n",
       "3    4143\n",
       "4    3867\n",
       "5    2380\n",
       "Name: 0, dtype: int64"
      ]
     },
     "execution_count": 42,
     "metadata": {},
     "output_type": "execute_result"
    }
   ],
   "source": [
    "y_OU_df =pd.DataFrame(y_OU)\n",
    "y_OU_df[0].value_counts().sort_index()"
   ]
  },
  {
   "cell_type": "code",
   "execution_count": 43,
   "metadata": {},
   "outputs": [
    {
     "data": {
      "text/plain": [
       "<matplotlib.axes._subplots.AxesSubplot at 0x296effecac8>"
      ]
     },
     "execution_count": 43,
     "metadata": {},
     "output_type": "execute_result"
    },
    {
     "data": {
      "image/png": "[encoded data removed]",
      "text/plain": [
       "<Figure size 432x288 with 1 Axes>"
      ]
     },
     "metadata": {
      "needs_background": "light"
     },
     "output_type": "display_data"
    }
   ],
   "source": [
    "y_OU_df[0].value_counts().sort_index().plot(kind ='bar')"
   ]
  },
  {
   "cell_type": "markdown",
   "metadata": {},
   "source": [
    "After the Augmentation and Undersampling of the majority class there is a much smaller difference between all of the classes."
   ]
  },
  {
   "cell_type": "code",
   "execution_count": 44,
   "metadata": {},
   "outputs": [],
   "source": [
    "# Catgorise the y data\n",
    "y_OU_cat = to_categorical(y_OU,6)"
   ]
  },
  {
   "cell_type": "code",
   "execution_count": 45,
   "metadata": {},
   "outputs": [
    {
     "name": "stdout",
     "output_type": "stream",
     "text": [
      "Train on 17742 samples, validate on 500 samples\n",
      "Epoch 1/10\n",
      "17742/17742 [==============================] - 18s 1ms/step - loss: 1.2307 - acc: 0.5048 - val_loss: 0.8673 - val_acc: 0.6820\n",
      "Epoch 2/10\n",
      "17742/17742 [==============================] - 16s 917us/step - loss: 0.9063 - acc: 0.6367 - val_loss: 0.8443 - val_acc: 0.6620\n",
      "Epoch 3/10\n",
      "17742/17742 [==============================] - 16s 917us/step - loss: 0.8011 - acc: 0.6807 - val_loss: 0.7253 - val_acc: 0.7320\n",
      "Epoch 4/10\n",
      "17742/17742 [==============================] - 16s 912us/step - loss: 0.7371 - acc: 0.7074 - val_loss: 0.6887 - val_acc: 0.7240\n",
      "Epoch 5/10\n",
      "17742/17742 [==============================] - 16s 907us/step - loss: 0.6852 - acc: 0.7261 - val_loss: 0.6832 - val_acc: 0.7140\n",
      "Epoch 6/10\n",
      "17742/17742 [==============================] - 16s 930us/step - loss: 0.6407 - acc: 0.7468 - val_loss: 0.6577 - val_acc: 0.7480TA: 4s - - ETA: 2s - loss: 0.6402 - acc: 0.746 - ETA: 2s - loss: 0.6399 - acc: 0.746 - ET\n",
      "Epoch 7/10\n",
      "17742/17742 [==============================] - 16s 913us/step - loss: 0.6122 - acc: 0.7544 - val_loss: 0.7944 - val_acc: 0.6440\n",
      "Epoch 8/10\n",
      "17742/17742 [==============================] - 16s 917us/step - loss: 0.5715 - acc: 0.7723 - val_loss: 0.6679 - val_acc: 0.7340\n",
      "Epoch 9/10\n",
      "17742/17742 [==============================] - 16s 913us/step - loss: 0.5354 - acc: 0.7877 - val_loss: 0.7839 - val_acc: 0.6700\n",
      "Epoch 10/10\n",
      "17742/17742 [==============================] - 16s 911us/step - loss: 0.5083 - acc: 0.7951 - val_loss: 0.7328 - val_acc: 0.6740\n",
      "Accuracy: 0.6883411462271284\n",
      "Classification Report: \n",
      "             precision    recall  f1-score   support\n",
      "\n",
      "          0       0.87      0.85      0.86       455\n",
      "          1       0.75      0.62      0.68       583\n",
      "          2       0.40      0.31      0.35       391\n",
      "          3       0.67      0.88      0.76      2570\n",
      "          4       0.72      0.55      0.62      2024\n",
      "          5       0.67      0.54      0.60       590\n",
      "\n",
      "avg / total       0.69      0.69      0.68      6613\n",
      "\n"
     ]
    }
   ],
   "source": [
    "model =create_model()\n",
    "model.fit(X_OU,\n",
    "         y_OU_cat,\n",
    "         batch_size=64,\n",
    "         epochs=10,\n",
    "         validation_data=(X_valid, y_valid))\n",
    "\n",
    "y_pred = model.predict_classes(X_test)\n",
    "y_cat= to_categorical(y_pred,6)\n",
    "print(f\"Accuracy: {accuracy_score(y_cat,y_test)}\")\n",
    "print(f\"Classification Report: \\n{classification_report(y_cat,y_test)}\")"
   ]
  },
  {
   "cell_type": "markdown",
   "metadata": {},
   "source": [
    "When combinining the undersampled and oversampled datasets there is a drop in accuracy, avg/total precision,recall and f1-score."
   ]
  },
  {
   "cell_type": "markdown",
   "metadata": {},
   "source": [
    "The two models that achived the best accuracy for the given test data were the Undersmapled and initial Augmented  oversampled model."
   ]
  },
  {
   "cell_type": "code",
   "execution_count": null,
   "metadata": {},
   "outputs": [],
   "source": []
  }
 ],
 "metadata": {
  "kernelspec": {
   "display_name": "Python 3",
   "language": "python",
   "name": "python3"
  },
  "language_info": {
   "codemirror_mode": {
    "name": "ipython",
    "version": 3
   },
   "file_extension": ".py",
   "mimetype": "text/x-python",
   "name": "python",
   "nbconvert_exporter": "python",
   "pygments_lexer": "ipython3",
   "version": "3.6.6"
  }
 },
 "nbformat": 4,
 "nbformat_minor": 2
}
