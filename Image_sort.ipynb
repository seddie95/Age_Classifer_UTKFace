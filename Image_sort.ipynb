{
 "cells": [
  {
   "cell_type": "code",
   "execution_count": 2,
   "metadata": {},
   "outputs": [],
   "source": [
    "import os\n",
    "import numpy as np\n",
    "import cv2\n",
    "import matplotlib.pyplot as plt\n",
    "from keras.utils.np_utils import to_categorical\n",
    "from sklearn.model_selection import train_test_split\n",
    "from keras.models import Sequential\n",
    "from keras.layers import Activation, Dropout, Flatten, Dense, Conv2D, MaxPooling2D\n",
    "from sklearn.metrics import classification_report,accuracy_score\n",
    "import pandas as pd"
   ]
  },
  {
   "cell_type": "code",
   "execution_count": null,
   "metadata": {},
   "outputs": [],
   "source": [
    "# Obtain path\n",
    "path ='crop_faces/crop_part1/'\n",
    "age_list =os.listdir(path)"
   ]
  },
  {
   "cell_type": "code",
   "execution_count": null,
   "metadata": {},
   "outputs": [],
   "source": [
    "#loop through images and seperate by age and gender\n",
    "age_array = []\n",
    "age_class = []\n",
    "\n",
    "for file in age_list:\n",
    "    \n",
    "    # retrieve age and gender\n",
    "    age = int(file.split('_')[0])\n",
    "    \n",
    "    # process image\n",
    "    img = cv2.imread(path+file)\n",
    "    img = cv2.resize(img,(50,50))\n",
    "    img = cv2.cvtColor(img,cv2.COLOR_BGR2RGB)\n",
    "    \n",
    "    if age <3:\n",
    "        age_class.append(0)\n",
    "\n",
    "    elif age<13:\n",
    "        age_class.append(1)\n",
    "        \n",
    "    elif age<20:\n",
    "        age_class.append(2)\n",
    "      \n",
    "            \n",
    "    elif age<40:\n",
    "        age_class.append(3)    \n",
    "        \n",
    "    elif age<66:\n",
    "        age_class.append(4)\n",
    "\n",
    "    \n",
    "    else:\n",
    "        age_class.append(5)\n",
    "\n",
    "       \n",
    "            \n",
    "    age_array.append(img)"
   ]
  },
  {
   "cell_type": "code",
   "execution_count": null,
   "metadata": {},
   "outputs": [],
   "source": [
    "plt.imshow(age_array[10])"
   ]
  },
  {
   "cell_type": "code",
   "execution_count": null,
   "metadata": {},
   "outputs": [],
   "source": [
    "age_class[10]"
   ]
  },
  {
   "cell_type": "code",
   "execution_count": null,
   "metadata": {},
   "outputs": [],
   "source": [
    "# convert list to numpy array\n",
    "X = np.array(age_array)\n",
    "y = np.array(age_class)"
   ]
  },
  {
   "cell_type": "code",
   "execution_count": null,
   "metadata": {},
   "outputs": [],
   "source": [
    "X.shape"
   ]
  },
  {
   "cell_type": "code",
   "execution_count": null,
   "metadata": {},
   "outputs": [],
   "source": [
    "np.savez_compressed('numpy_files/age_data.npz', X=X, y=y)"
   ]
  }
 ],
 "metadata": {
  "kernelspec": {
   "display_name": "Python 3",
   "language": "python",
   "name": "python3"
  },
  "language_info": {
   "codemirror_mode": {
    "name": "ipython",
    "version": 3
   },
   "file_extension": ".py",
   "mimetype": "text/x-python",
   "name": "python",
   "nbconvert_exporter": "python",
   "pygments_lexer": "ipython3",
   "version": "3.6.6"
  }
 },
 "nbformat": 4,
 "nbformat_minor": 2
}
